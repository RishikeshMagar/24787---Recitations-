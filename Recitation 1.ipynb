{
 "cells": [
  {
   "cell_type": "markdown",
   "metadata": {},
   "source": [
    "# 24787 Recitation1 : Installation and basics of Numpy\n",
    "\n",
    "$\\hspace{5mm}$Rishikesh Magar - rmagar@andrew.cmu.edu"
   ]
  },
  {
   "cell_type": "markdown",
   "metadata": {},
   "source": [
    "## Installation"
   ]
  },
  {
   "cell_type": "markdown",
   "metadata": {},
   "source": [
    "We will be using Jupyter notebooks for this course. Before diving into numpy, vectorization and python basics please make sure that you have python3 installed in your computer. For python installation we would prefer the anaconda distribution."
   ]
  },
  {
   "cell_type": "markdown",
   "metadata": {},
   "source": [
    "visit the webpage: https://www.anaconda.com/distribution and follow the instructions. Make sure you install python3 since python 2 will no longer be supported starting Jan 2020 "
   ]
  },
  {
   "cell_type": "markdown",
   "metadata": {},
   "source": [
    "# NUMPY basics"
   ]
  },
  {
   "cell_type": "markdown",
   "metadata": {},
   "source": [
    "- What is NumPy?"
   ]
  },
  {
   "cell_type": "markdown",
   "metadata": {},
   "source": [
    "## Download and Installation"
   ]
  },
  {
   "cell_type": "markdown",
   "metadata": {},
   "source": [
    "If you have installed python correctly. Numpy should perhaps come with it. If numpy is not installed please follow instructions at https://scipy.org/install.html"
   ]
  },
  {
   "cell_type": "markdown",
   "metadata": {},
   "source": [
    "# Lists"
   ]
  },
  {
   "cell_type": "code",
   "execution_count": 1,
   "metadata": {},
   "outputs": [
    {
     "name": "stdout",
     "output_type": "stream",
     "text": [
      "<class 'bool'>\n",
      "['AI and ML for Engineers', 24787, 'CIT @ CMU', True]\n",
      "['AI and ML for Engineers', 24787, 'CIT @ CMU', True, 'More objects', ['List inside a list!']]\n",
      "\n",
      "Length before adding another_list 4 \n",
      "\n",
      "Length after adding another_list 6 \n",
      "\n",
      "['AI and ML for Engineers', 24787, 'CIT @ CMU', True, 'More objects', ['List inside a list!'], 'More objects', ['List inside a list!']]\n"
     ]
    }
   ],
   "source": [
    "# Lists - can store anything\n",
    "\n",
    "list_of_things = ['AI and ML for Engineers'] # initalise\n",
    "list_of_things.append(24787)\n",
    "list_of_things.append('CIT @ CMU')\n",
    "list_of_things.append(True)\n",
    "\n",
    "# Accessing objects\n",
    "print(type(list_of_things[3]))\n",
    "\n",
    "# Print the list\n",
    "print(list_of_things)\n",
    "\n",
    "# Create another list\n",
    "another_list = ['More objects', ['List inside a list!']]\n",
    "\n",
    "# Merge the lists\n",
    "third_lists = list_of_things + another_list\n",
    "print(third_lists)\n",
    "\n",
    "# Extend list_of_things\n",
    "print('\\nLength before adding another_list',len(list_of_things),'\\n')\n",
    "list_of_things.extend(another_list)\n",
    "print('Length after adding another_list',len(list_of_things),'\\n')\n",
    "\n",
    "list_of_things+=another_list\n",
    "print(list_of_things)\n"
   ]
  },
  {
   "cell_type": "markdown",
   "metadata": {},
   "source": [
    "## Introductory Example: Implementing with Lists "
   ]
  },
  {
   "cell_type": "markdown",
   "metadata": {},
   "source": [
    "To know the difference between an array and a list please Google ;)\n",
    "\n",
    "This blog also provides a good explanation : https://medium.com/backticks-tildes/list-vs-array-python-data-type-40ac4f294551"
   ]
  },
  {
   "cell_type": "code",
   "execution_count": 11,
   "metadata": {},
   "outputs": [
    {
     "name": "stdout",
     "output_type": "stream",
     "text": [
      "[40, 41, 42]\n"
     ]
    }
   ],
   "source": [
    "# Inputs\n",
    "# Now that we know what a list is lets use it to do a simple calculation\n",
    "theta_1 = [[2, 1, 3],\n",
    "     [1, 2, 3],\n",
    "     [3, 1, 2]]\n",
    "\n",
    "x = [7, 8, 5]\n",
    "theta_0 = [1, 1, 1]\n",
    "\n",
    "# Output\n",
    "y = [0, 0, 0]\n",
    "\n",
    "# Computation of y = theta_1*x + theta_0\n",
    "for i in range(len(theta_1)):\n",
    "    for j in range(len(x)):\n",
    "        y[i] = y[i]+theta_1[i][j] * x[j]+ (theta_0[i])\n",
    "\n",
    "# for i in range(len(y)):\n",
    "#     y[i] += b[i]\n",
    "print(y)\n"
   ]
  },
  {
   "cell_type": "code",
   "execution_count": 7,
   "metadata": {},
   "outputs": [
    {
     "data": {
      "text/plain": [
       "(4, 3)"
      ]
     },
     "execution_count": 7,
     "metadata": {},
     "output_type": "execute_result"
    }
   ],
   "source": [
    "W1 = [[1, 1, 1],\n",
    "     [2, 2, 2],\n",
    "     [3, 3, 3],\n",
    "     [4,4,4]]\n",
    "import numpy as np\n",
    "W2 = np.asarray(W1) \n",
    "W2.shape"
   ]
  },
  {
   "cell_type": "markdown",
   "metadata": {},
   "source": [
    "### NumPy-based Vectorized Implementation"
   ]
  },
  {
   "cell_type": "code",
   "execution_count": 8,
   "metadata": {},
   "outputs": [],
   "source": [
    "import numpy as np"
   ]
  },
  {
   "cell_type": "code",
   "execution_count": 14,
   "metadata": {},
   "outputs": [
    {
     "data": {
      "text/plain": [
       "(3, 3)"
      ]
     },
     "execution_count": 14,
     "metadata": {},
     "output_type": "execute_result"
    }
   ],
   "source": [
    "W = np.array([[1, 1, 1],\n",
    "              [2, 2, 2],\n",
    "              [3, 3, 3]])\n",
    "W.shape"
   ]
  },
  {
   "cell_type": "code",
   "execution_count": 21,
   "metadata": {},
   "outputs": [
    {
     "data": {
      "text/plain": [
       "(3,)"
      ]
     },
     "execution_count": 21,
     "metadata": {},
     "output_type": "execute_result"
    }
   ],
   "source": [
    "x = np.array([7, 8, 5])\n",
    "x.shape"
   ]
  },
  {
   "cell_type": "code",
   "execution_count": 22,
   "metadata": {},
   "outputs": [
    {
     "data": {
      "text/plain": [
       "array([1., 1., 1.])"
      ]
     },
     "execution_count": 22,
     "metadata": {},
     "output_type": "execute_result"
    }
   ],
   "source": [
    "b = np.ones(3)\n",
    "b"
   ]
  },
  {
   "cell_type": "code",
   "execution_count": 23,
   "metadata": {},
   "outputs": [
    {
     "data": {
      "text/plain": [
       "array([20, 40, 60])"
      ]
     },
     "execution_count": 23,
     "metadata": {},
     "output_type": "execute_result"
    }
   ],
   "source": [
    "W.dot(x)"
   ]
  },
  {
   "cell_type": "code",
   "execution_count": 24,
   "metadata": {},
   "outputs": [
    {
     "data": {
      "text/plain": [
       "array([21., 41., 61.])"
      ]
     },
     "execution_count": 24,
     "metadata": {},
     "output_type": "execute_result"
    }
   ],
   "source": [
    "W.dot(x) + b"
   ]
  },
  {
   "cell_type": "markdown",
   "metadata": {},
   "source": [
    "## Multi-Dimensional Arrays"
   ]
  },
  {
   "cell_type": "code",
   "execution_count": 25,
   "metadata": {
    "scrolled": true
   },
   "outputs": [
    {
     "data": {
      "text/plain": [
       "array([[[0.96351691, 0.77375275, 0.28687746, 0.30528653],\n",
       "        [0.92791877, 0.56225443, 0.55508502, 0.07712794],\n",
       "        [0.21012592, 0.46030801, 0.27883737, 0.44634651]],\n",
       "\n",
       "       [[0.21154662, 0.54855307, 0.4846036 , 0.12297319],\n",
       "        [0.85128901, 0.06431261, 0.0116154 , 0.5376059 ],\n",
       "        [0.61372249, 0.67358703, 0.57263255, 0.13152588]]])"
      ]
     },
     "execution_count": 25,
     "metadata": {},
     "output_type": "execute_result"
    }
   ],
   "source": [
    "T = np.random.random((2,3,4))\n",
    "T"
   ]
  },
  {
   "cell_type": "code",
   "execution_count": 26,
   "metadata": {},
   "outputs": [
    {
     "data": {
      "text/plain": [
       "((3, 4), dtype('float64'))"
      ]
     },
     "execution_count": 26,
     "metadata": {},
     "output_type": "execute_result"
    }
   ],
   "source": [
    "W = T[1]\n",
    "W.shape, W.dtype"
   ]
  },
  {
   "cell_type": "code",
   "execution_count": 30,
   "metadata": {},
   "outputs": [
    {
     "data": {
      "text/plain": [
       "((4, 3), dtype('int32'))"
      ]
     },
     "execution_count": 30,
     "metadata": {},
     "output_type": "execute_result"
    }
   ],
   "source": [
    "X = np.full((4,3), 11785, dtype=np.int32) # prints out the same in all dimension\n",
    "X.shape, X.dtype"
   ]
  },
  {
   "cell_type": "code",
   "execution_count": 31,
   "metadata": {},
   "outputs": [
    {
     "data": {
      "text/plain": [
       "array([[16118.06729937, 16118.06729937, 16118.06729937],\n",
       "       [17262.93811414, 17262.93811414, 17262.93811414],\n",
       "       [23469.44974789, 23469.44974789, 23469.44974789]])"
      ]
     },
     "execution_count": 31,
     "metadata": {},
     "output_type": "execute_result"
    }
   ],
   "source": [
    "W.dot(X)"
   ]
  },
  {
   "cell_type": "code",
   "execution_count": 32,
   "metadata": {},
   "outputs": [
    {
     "data": {
      "text/plain": [
       "True"
      ]
     },
     "execution_count": 32,
     "metadata": {},
     "output_type": "execute_result"
    }
   ],
   "source": [
    "X2 = np.zeros(X.shape)\n",
    "\n",
    "np.array_equal(W.dot(X2), np.zeros((3,3)))"
   ]
  },
  {
   "cell_type": "markdown",
   "metadata": {},
   "source": [
    "## Basic Element-wise Operations"
   ]
  },
  {
   "cell_type": "code",
   "execution_count": 33,
   "metadata": {},
   "outputs": [
    {
     "data": {
      "text/plain": [
       "(array([0, 1, 2, 3, 4, 5, 6, 7, 8, 9]), array([0, 1, 2, 3, 4, 5, 6, 7, 8, 9]))"
      ]
     },
     "execution_count": 33,
     "metadata": {},
     "output_type": "execute_result"
    }
   ],
   "source": [
    "y = np.arange(10)\n",
    "y, np.array(range(10))"
   ]
  },
  {
   "cell_type": "code",
   "execution_count": 34,
   "metadata": {},
   "outputs": [
    {
     "data": {
      "text/plain": [
       "array([ True,  True,  True,  True,  True,  True,  True,  True,  True,\n",
       "        True])"
      ]
     },
     "execution_count": 34,
     "metadata": {},
     "output_type": "execute_result"
    }
   ],
   "source": [
    "y == np.array(range(10))"
   ]
  },
  {
   "cell_type": "code",
   "execution_count": 35,
   "metadata": {},
   "outputs": [
    {
     "data": {
      "text/plain": [
       "array([ 1,  2,  3,  4,  5,  6,  7,  8,  9, 10])"
      ]
     },
     "execution_count": 35,
     "metadata": {},
     "output_type": "execute_result"
    }
   ],
   "source": [
    "y + 1"
   ]
  },
  {
   "cell_type": "code",
   "execution_count": 36,
   "metadata": {},
   "outputs": [
    {
     "data": {
      "text/plain": [
       "array([ 0, 10, 20, 30, 40, 50, 60, 70, 80, 90])"
      ]
     },
     "execution_count": 36,
     "metadata": {},
     "output_type": "execute_result"
    }
   ],
   "source": [
    "y * 10"
   ]
  },
  {
   "cell_type": "code",
   "execution_count": 37,
   "metadata": {},
   "outputs": [
    {
     "data": {
      "text/plain": [
       "array([  1,   4,   9,  16,  25,  36,  49,  64,  81, 100], dtype=int32)"
      ]
     },
     "execution_count": 37,
     "metadata": {},
     "output_type": "execute_result"
    }
   ],
   "source": [
    "(y + 1)**2"
   ]
  },
  {
   "cell_type": "code",
   "execution_count": 38,
   "metadata": {},
   "outputs": [
    {
     "data": {
      "text/plain": [
       "array([ 0,  2,  4,  6,  8, 10, 12, 14, 16, 18])"
      ]
     },
     "execution_count": 38,
     "metadata": {},
     "output_type": "execute_result"
    }
   ],
   "source": [
    "y + y"
   ]
  },
  {
   "cell_type": "code",
   "execution_count": 39,
   "metadata": {},
   "outputs": [
    {
     "data": {
      "text/plain": [
       "array([0.        , 0.5       , 0.66666667, 0.75      , 0.8       ,\n",
       "       0.83333333, 0.85714286, 0.875     , 0.88888889, 0.9       ])"
      ]
     },
     "execution_count": 39,
     "metadata": {},
     "output_type": "execute_result"
    }
   ],
   "source": [
    "y / (y + 1)"
   ]
  },
  {
   "cell_type": "code",
   "execution_count": 40,
   "metadata": {},
   "outputs": [
    {
     "data": {
      "text/plain": [
       "array([0., 1., 2., 3., 4., 5., 6., 7., 8., 9.])"
      ]
     },
     "execution_count": 40,
     "metadata": {},
     "output_type": "execute_result"
    }
   ],
   "source": [
    "np.sqrt(y**2)"
   ]
  },
  {
   "cell_type": "code",
   "execution_count": 41,
   "metadata": {},
   "outputs": [
    {
     "data": {
      "text/plain": [
       "(0, 9, 2.8722813232690143, 45)"
      ]
     },
     "execution_count": 41,
     "metadata": {},
     "output_type": "execute_result"
    }
   ],
   "source": [
    "y.min(), y.max(), y.std(), y.sum()"
   ]
  },
  {
   "cell_type": "markdown",
   "metadata": {},
   "source": [
    "## Indexing NumPy Arrays"
   ]
  },
  {
   "cell_type": "code",
   "execution_count": 50,
   "metadata": {},
   "outputs": [],
   "source": [
    "np.save('tensor.npy', np.arange(2 * 4 * 4).reshape(2, 4,4))"
   ]
  },
  {
   "cell_type": "code",
   "execution_count": 51,
   "metadata": {
    "scrolled": true
   },
   "outputs": [
    {
     "data": {
      "text/plain": [
       "(array([[[ 0,  1,  2,  3],\n",
       "         [ 4,  5,  6,  7],\n",
       "         [ 8,  9, 10, 11],\n",
       "         [12, 13, 14, 15]],\n",
       " \n",
       "        [[16, 17, 18, 19],\n",
       "         [20, 21, 22, 23],\n",
       "         [24, 25, 26, 27],\n",
       "         [28, 29, 30, 31]]]), (2, 4, 4))"
      ]
     },
     "execution_count": 51,
     "metadata": {},
     "output_type": "execute_result"
    }
   ],
   "source": [
    "T = np.load('tensor.npy')\n",
    "T,  T.shape"
   ]
  },
  {
   "cell_type": "code",
   "execution_count": 52,
   "metadata": {},
   "outputs": [
    {
     "data": {
      "text/plain": [
       "array([[ 0,  1,  2,  3],\n",
       "       [ 4,  5,  6,  7],\n",
       "       [ 8,  9, 10, 11],\n",
       "       [12, 13, 14, 15]])"
      ]
     },
     "execution_count": 52,
     "metadata": {},
     "output_type": "execute_result"
    }
   ],
   "source": [
    "T[0]"
   ]
  },
  {
   "cell_type": "code",
   "execution_count": 53,
   "metadata": {},
   "outputs": [
    {
     "data": {
      "text/plain": [
       "16"
      ]
     },
     "execution_count": 53,
     "metadata": {},
     "output_type": "execute_result"
    }
   ],
   "source": [
    "T[1,0,0]  # more efficient version of T[1][0][0]"
   ]
  },
  {
   "cell_type": "code",
   "execution_count": 57,
   "metadata": {},
   "outputs": [
    {
     "data": {
      "text/plain": [
       "array([[ 0,  1],\n",
       "       [ 4,  5],\n",
       "       [ 8,  9],\n",
       "       [12, 13]])"
      ]
     },
     "execution_count": 57,
     "metadata": {},
     "output_type": "execute_result"
    }
   ],
   "source": [
    "T[0,0:4,0:2] # selecting the "
   ]
  },
  {
   "cell_type": "code",
   "execution_count": 58,
   "metadata": {},
   "outputs": [
    {
     "data": {
      "text/plain": [
       "array([[[ True, False, False, False],\n",
       "        [False, False, False, False],\n",
       "        [False, False,  True, False],\n",
       "        [False, False, False, False]],\n",
       "\n",
       "       [[False, False, False, False],\n",
       "        [ True, False, False, False],\n",
       "        [False, False, False, False],\n",
       "        [False, False,  True, False]]])"
      ]
     },
     "execution_count": 58,
     "metadata": {},
     "output_type": "execute_result"
    }
   ],
   "source": [
    "(T % 10) == 0"
   ]
  },
  {
   "cell_type": "code",
   "execution_count": 68,
   "metadata": {},
   "outputs": [
    {
     "data": {
      "text/plain": [
       "array([ 0, 10, 20, 30])"
      ]
     },
     "execution_count": 68,
     "metadata": {},
     "output_type": "execute_result"
    }
   ],
   "source": [
    "T[(T % 10) == 0] "
   ]
  },
  {
   "cell_type": "markdown",
   "metadata": {},
   "source": [
    "## Example: Masking and Clipping"
   ]
  },
  {
   "cell_type": "code",
   "execution_count": 77,
   "metadata": {},
   "outputs": [
    {
     "data": {
      "text/plain": [
       "array([[0, 5, 7, 7],\n",
       "       [4, 5, 5, 3],\n",
       "       [7, 6, 2, 3],\n",
       "       [7, 0, 2, 6]])"
      ]
     },
     "execution_count": 77,
     "metadata": {},
     "output_type": "execute_result"
    }
   ],
   "source": [
    "W = np.random.randint(0, 8, (4, 4)) # 8 i sthe limit of the maximum values \n",
    "W"
   ]
  },
  {
   "cell_type": "code",
   "execution_count": 78,
   "metadata": {},
   "outputs": [
    {
     "data": {
      "text/plain": [
       "array([[1, 1, 1, 1],\n",
       "       [0, 0, 0, 0],\n",
       "       [1, 1, 1, 1],\n",
       "       [1, 1, 1, 1]])"
      ]
     },
     "execution_count": 78,
     "metadata": {},
     "output_type": "execute_result"
    }
   ],
   "source": [
    "mask = np.ones_like(W)\n",
    "mask[1] = 0\n",
    "mask"
   ]
  },
  {
   "cell_type": "code",
   "execution_count": 79,
   "metadata": {},
   "outputs": [
    {
     "data": {
      "text/plain": [
       "array([[0, 5, 7, 7],\n",
       "       [0, 0, 0, 0],\n",
       "       [7, 6, 2, 3],\n",
       "       [7, 0, 2, 6]])"
      ]
     },
     "execution_count": 79,
     "metadata": {},
     "output_type": "execute_result"
    }
   ],
   "source": [
    "W * mask"
   ]
  },
  {
   "cell_type": "code",
   "execution_count": 80,
   "metadata": {},
   "outputs": [
    {
     "data": {
      "text/plain": [
       "array([[False, False,  True,  True],\n",
       "       [False, False, False, False],\n",
       "       [ True,  True, False, False],\n",
       "       [ True, False, False,  True]])"
      ]
     },
     "execution_count": 80,
     "metadata": {},
     "output_type": "execute_result"
    }
   ],
   "source": [
    "W > 5"
   ]
  },
  {
   "cell_type": "code",
   "execution_count": 81,
   "metadata": {},
   "outputs": [
    {
     "data": {
      "text/plain": [
       "array([[0, 5, 5, 5],\n",
       "       [4, 5, 5, 3],\n",
       "       [5, 5, 2, 3],\n",
       "       [5, 0, 2, 5]])"
      ]
     },
     "execution_count": 81,
     "metadata": {},
     "output_type": "execute_result"
    }
   ],
   "source": [
    "W2 = W\n",
    "W2[W2 > 5] = 5\n",
    "W2 # beautiful way of comparing "
   ]
  },
  {
   "cell_type": "code",
   "execution_count": 82,
   "metadata": {
    "scrolled": false
   },
   "outputs": [
    {
     "data": {
      "text/plain": [
       "array([[0, 5, 5, 5],\n",
       "       [4, 5, 5, 3],\n",
       "       [5, 5, 2, 3],\n",
       "       [5, 0, 2, 5]])"
      ]
     },
     "execution_count": 82,
     "metadata": {},
     "output_type": "execute_result"
    }
   ],
   "source": [
    "np.minimum(W, 5)"
   ]
  },
  {
   "cell_type": "markdown",
   "metadata": {},
   "source": [
    "## Computation Along Axes"
   ]
  },
  {
   "cell_type": "code",
   "execution_count": 83,
   "metadata": {},
   "outputs": [
    {
     "data": {
      "text/plain": [
       "array([[0.07525689, 0.91572862, 0.13968996],\n",
       "       [0.66676866, 0.1500341 , 0.88076877],\n",
       "       [0.65962014, 0.95427169, 0.44155668]])"
      ]
     },
     "execution_count": 83,
     "metadata": {},
     "output_type": "execute_result"
    }
   ],
   "source": [
    "A = np.random.random((3,3))\n",
    "A"
   ]
  },
  {
   "cell_type": "code",
   "execution_count": 84,
   "metadata": {
    "scrolled": false
   },
   "outputs": [
    {
     "data": {
      "text/plain": [
       "4.883695514926788"
      ]
     },
     "execution_count": 84,
     "metadata": {},
     "output_type": "execute_result"
    }
   ],
   "source": [
    "A.sum()"
   ]
  },
  {
   "cell_type": "code",
   "execution_count": 85,
   "metadata": {
    "scrolled": true
   },
   "outputs": [
    {
     "data": {
      "text/plain": [
       "array([1.40164568, 2.02003442, 1.46201541])"
      ]
     },
     "execution_count": 85,
     "metadata": {},
     "output_type": "execute_result"
    }
   ],
   "source": [
    "A.sum(axis=0) # column wise # col1 # col2 #col3"
   ]
  },
  {
   "cell_type": "code",
   "execution_count": 87,
   "metadata": {},
   "outputs": [
    {
     "data": {
      "text/plain": [
       "array([1.13067547, 1.69757153, 2.05544852])"
      ]
     },
     "execution_count": 87,
     "metadata": {},
     "output_type": "execute_result"
    }
   ],
   "source": [
    "A.sum(axis=1) # row 1 "
   ]
  },
  {
   "cell_type": "code",
   "execution_count": 88,
   "metadata": {},
   "outputs": [
    {
     "data": {
      "text/plain": [
       "(array([0.66676866, 0.95427169, 0.88076877]), array([1, 2, 1], dtype=int64))"
      ]
     },
     "execution_count": 88,
     "metadata": {},
     "output_type": "execute_result"
    }
   ],
   "source": [
    "A.max(axis=0), A.argmax(axis=0)"
   ]
  },
  {
   "cell_type": "markdown",
   "metadata": {},
   "source": [
    "## Combining Arrays: Stacking & Concatenation"
   ]
  },
  {
   "cell_type": "code",
   "execution_count": 89,
   "metadata": {},
   "outputs": [
    {
     "data": {
      "text/plain": [
       "(array([1, 1, 1, 1, 1]), array([2, 2, 2, 2, 2]), array([3, 3, 3, 3, 3]))"
      ]
     },
     "execution_count": 89,
     "metadata": {},
     "output_type": "execute_result"
    }
   ],
   "source": [
    "a = np.full(5, 1)\n",
    "b = np.full(5, 2)\n",
    "c = np.full(5, 3)\n",
    "a, b, c"
   ]
  },
  {
   "cell_type": "markdown",
   "metadata": {},
   "source": [
    "Stacking creates a new axis. It joins the supplied arrays, which must have the same shape, along that axis.\n",
    "Indexing a single element from that axis returns the appropriate input array."
   ]
  },
  {
   "cell_type": "code",
   "execution_count": 92,
   "metadata": {},
   "outputs": [
    {
     "data": {
      "text/plain": [
       "(array([[1, 2, 3],\n",
       "        [1, 2, 3],\n",
       "        [1, 2, 3],\n",
       "        [1, 2, 3],\n",
       "        [1, 2, 3]]), (5, 3))"
      ]
     },
     "execution_count": 92,
     "metadata": {},
     "output_type": "execute_result"
    }
   ],
   "source": [
    "B = np.stack([a, b, c], axis=1)\n",
    "B, B.shape"
   ]
  },
  {
   "cell_type": "code",
   "execution_count": 93,
   "metadata": {},
   "outputs": [
    {
     "data": {
      "text/plain": [
       "array([2, 2, 2, 2, 2])"
      ]
     },
     "execution_count": 93,
     "metadata": {},
     "output_type": "execute_result"
    }
   ],
   "source": [
    "B[:,1]"
   ]
  },
  {
   "cell_type": "markdown",
   "metadata": {},
   "source": [
    "Concatenating arrays joins them along an *existing* aixs."
   ]
  },
  {
   "cell_type": "code",
   "execution_count": 96,
   "metadata": {},
   "outputs": [
    {
     "data": {
      "text/plain": [
       "array([[101, 102, 103, 201, 202, 203],\n",
       "       [101, 102, 103, 201, 202, 203],\n",
       "       [101, 102, 103, 201, 202, 203],\n",
       "       [101, 102, 103, 201, 202, 203],\n",
       "       [101, 102, 103, 201, 202, 203]])"
      ]
     },
     "execution_count": 96,
     "metadata": {},
     "output_type": "execute_result"
    }
   ],
   "source": [
    "C = np.concatenate([B+100, B+200], axis=1\n",
    "                  )\n",
    "C"
   ]
  },
  {
   "cell_type": "markdown",
   "metadata": {},
   "source": [
    "## Transposing and Reshaping"
   ]
  },
  {
   "cell_type": "code",
   "execution_count": 97,
   "metadata": {},
   "outputs": [
    {
     "data": {
      "text/plain": [
       "(array([[1, 2, 3],\n",
       "        [1, 2, 3],\n",
       "        [1, 2, 3],\n",
       "        [1, 2, 3],\n",
       "        [1, 2, 3]]), (5, 3))"
      ]
     },
     "execution_count": 97,
     "metadata": {},
     "output_type": "execute_result"
    }
   ],
   "source": [
    "B, B.shape"
   ]
  },
  {
   "cell_type": "code",
   "execution_count": 98,
   "metadata": {},
   "outputs": [
    {
     "data": {
      "text/plain": [
       "(array([[1, 1, 1, 1, 1],\n",
       "        [2, 2, 2, 2, 2],\n",
       "        [3, 3, 3, 3, 3]]), (3, 5))"
      ]
     },
     "execution_count": 98,
     "metadata": {},
     "output_type": "execute_result"
    }
   ],
   "source": [
    "BT = B.T\n",
    "BT, BT.shape"
   ]
  },
  {
   "cell_type": "code",
   "execution_count": 100,
   "metadata": {},
   "outputs": [
    {
     "data": {
      "text/plain": [
       "(array([[1, 2, 3, 1, 2],\n",
       "        [3, 1, 2, 3, 1],\n",
       "        [2, 3, 1, 2, 3]]), (3, 5))"
      ]
     },
     "execution_count": 100,
     "metadata": {},
     "output_type": "execute_result"
    }
   ],
   "source": [
    "BR = B.reshape(3, 5)\n",
    "BR, BR.shape # it goes row wise "
   ]
  },
  {
   "cell_type": "markdown",
   "metadata": {},
   "source": [
    "## Broadcasting"
   ]
  },
  {
   "cell_type": "code",
   "execution_count": 101,
   "metadata": {},
   "outputs": [
    {
     "data": {
      "text/plain": [
       "array([[1.26429493, 0.24495927, 1.06725152],\n",
       "       [1.75707904, 0.69843245, 1.30007419],\n",
       "       [1.23546747, 0.96822035, 0.87771359],\n",
       "       [1.34990525, 0.54137841, 1.13365397],\n",
       "       [2.07928691, 1.24302455, 1.46951904],\n",
       "       [1.88479748, 0.97378711, 1.61675636],\n",
       "       [1.77314492, 0.66142923, 1.44080806],\n",
       "       [1.4889392 , 0.64157103, 1.32179583]])"
      ]
     },
     "execution_count": 101,
     "metadata": {},
     "output_type": "execute_result"
    }
   ],
   "source": [
    "A = np.random.random((8, 4))\n",
    "B = np.random.random((4, 3))\n",
    "A.dot(B)"
   ]
  },
  {
   "cell_type": "code",
   "execution_count": 102,
   "metadata": {},
   "outputs": [
    {
     "data": {
      "text/plain": [
       "array([[11.26429493, 20.24495927, 31.06725152],\n",
       "       [11.75707904, 20.69843245, 31.30007419],\n",
       "       [11.23546747, 20.96822035, 30.87771359],\n",
       "       [11.34990525, 20.54137841, 31.13365397],\n",
       "       [12.07928691, 21.24302455, 31.46951904],\n",
       "       [11.88479748, 20.97378711, 31.61675636],\n",
       "       [11.77314492, 20.66142923, 31.44080806],\n",
       "       [11.4889392 , 20.64157103, 31.32179583]])"
      ]
     },
     "execution_count": 102,
     "metadata": {},
     "output_type": "execute_result"
    }
   ],
   "source": [
    "b = np.array([10, 20, 30])\n",
    "A.dot(B) + b"
   ]
  },
  {
   "cell_type": "markdown",
   "metadata": {},
   "source": [
    "Arrays must have same ending dimensions to broadcast. columns??"
   ]
  },
  {
   "cell_type": "code",
   "execution_count": 110,
   "metadata": {},
   "outputs": [
    {
     "name": "stdout",
     "output_type": "stream",
     "text": [
      "[[[0.   1.01 2.02 3.03]\n",
      "  [4.04 5.05 6.06 7.07]]\n",
      "\n",
      " [[0.08 1.09 2.1  3.11]\n",
      "  [4.12 5.13 6.14 7.15]]]\n"
     ]
    }
   ],
   "source": [
    "#print(np.arange(12).reshape((3,4)) + 0.01 * np.arange(4))\n",
    "print(np.arange(8).reshape((2,4)) + 0.01 * np.arange(16).reshape((2,2,4))) # it either has to be the same shape or a single row/column array \n",
    "#print(np.arange(6).reshape((3,1,2)) + 0.01 * np.arange(18).reshape((3,3,2)))"
   ]
  },
  {
   "cell_type": "markdown",
   "metadata": {},
   "source": [
    "Mismatched dimensions cause an error."
   ]
  },
  {
   "cell_type": "code",
   "execution_count": 117,
   "metadata": {},
   "outputs": [
    {
     "name": "stdout",
     "output_type": "stream",
     "text": [
      "operands could not be broadcast together with shapes (2,4) (4,4) \n"
     ]
    }
   ],
   "source": [
    "try:\n",
    "  x = np.random.random((2,4))+np.random.random((4,4))\n",
    "except ValueError as e:\n",
    "  print(e)"
   ]
  },
  {
   "cell_type": "markdown",
   "metadata": {},
   "source": [
    "## Saving and Loading"
   ]
  },
  {
   "cell_type": "markdown",
   "metadata": {},
   "source": [
    "### Saving and loading a single NumPy array"
   ]
  },
  {
   "cell_type": "code",
   "execution_count": 105,
   "metadata": {
    "scrolled": true
   },
   "outputs": [
    {
     "name": "stdout",
     "output_type": "stream",
     "text": [
      "[0.35236696 0.2647912  0.55923498 0.11855071 0.96468536]\n"
     ]
    }
   ],
   "source": [
    "# Save single array\n",
    "x = np.random.random((5,))\n",
    "print(x)\n",
    "\n",
    "np.save('tmp.npy', x)"
   ]
  },
  {
   "cell_type": "code",
   "execution_count": 106,
   "metadata": {},
   "outputs": [
    {
     "name": "stdout",
     "output_type": "stream",
     "text": [
      "[0.35236696 0.2647912  0.55923498 0.11855071 0.96468536]\n"
     ]
    }
   ],
   "source": [
    "# Load the array\n",
    "y = np.load('tmp.npy')\n",
    "\n",
    "print(y)"
   ]
  },
  {
   "cell_type": "markdown",
   "metadata": {},
   "source": [
    "### Saving and loading a dictionary of NumPy arrays"
   ]
  },
  {
   "cell_type": "code",
   "execution_count": 107,
   "metadata": {
    "scrolled": true
   },
   "outputs": [
    {
     "name": "stdout",
     "output_type": "stream",
     "text": [
      "[0.09748973 0.11835117] [0.92185591 0.86983344 0.53393804]\n"
     ]
    }
   ],
   "source": [
    "# Save dictionary of arrays\n",
    "x1 = np.random.random((2,))\n",
    "y1 = np.random.random((3,))\n",
    "print(x1, y1)\n",
    "\n",
    "np.savez('tmp.npz', x=x1, y=y1)"
   ]
  },
  {
   "cell_type": "code",
   "execution_count": 108,
   "metadata": {
    "scrolled": false
   },
   "outputs": [
    {
     "name": "stdout",
     "output_type": "stream",
     "text": [
      "[0.09748973 0.11835117]\n",
      "[0.92185591 0.86983344 0.53393804]\n"
     ]
    }
   ],
   "source": [
    "# Load the dictionary of arrays\n",
    "data = np.load('tmp.npz')\n",
    "\n",
    "print(data['x'])\n",
    "print(data['y'])"
   ]
  },
  {
   "cell_type": "code",
   "execution_count": null,
   "metadata": {},
   "outputs": [],
   "source": [
    "# load csv file"
   ]
  },
  {
   "cell_type": "markdown",
   "metadata": {},
   "source": [
    "### Basic python"
   ]
  },
  {
   "cell_type": "markdown",
   "metadata": {},
   "source": [
    "### Numbers operators and comments"
   ]
  },
  {
   "cell_type": "code",
   "execution_count": 1,
   "metadata": {},
   "outputs": [
    {
     "name": "stdout",
     "output_type": "stream",
     "text": [
      "<class 'int'>\n",
      "<class 'float'>\n",
      "<class 'float'>\n"
     ]
    }
   ],
   "source": [
    "# This is how you comment things out \n",
    "print(type(9))\n",
    "print(type(9.0))\n",
    "print(type(1+3.33))"
   ]
  },
  {
   "cell_type": "code",
   "execution_count": 2,
   "metadata": {},
   "outputs": [
    {
     "name": "stdout",
     "output_type": "stream",
     "text": [
      "8\n",
      "1.6666666666666665\n"
     ]
    }
   ],
   "source": [
    "print(2 ** 3)\n",
    "print(1+2/3)"
   ]
  },
  {
   "cell_type": "code",
   "execution_count": null,
   "metadata": {},
   "outputs": [],
   "source": [
    "decimal = 12.456435\n",
    "\n",
    "# type casting: convert a data type\n",
    "decimal = int(decimal)\n",
    "print(decimal)"
   ]
  },
  {
   "cell_type": "markdown",
   "metadata": {},
   "source": [
    "### Variables and strings"
   ]
  },
  {
   "cell_type": "markdown",
   "metadata": {},
   "source": [
    "#### Varialbes are assigned with the variable name on the left and the value on the right of the equals sign. \n",
    "#### Variables must be assigned before they can be used."
   ]
  },
  {
   "cell_type": "code",
   "execution_count": 3,
   "metadata": {},
   "outputs": [
    {
     "name": "stdout",
     "output_type": "stream",
     "text": [
      "4\n"
     ]
    }
   ],
   "source": [
    "days_hw_due = 5\n",
    "days_hw_due = days_hw_due -1\n",
    "print(days_hw_due)"
   ]
  },
  {
   "cell_type": "markdown",
   "metadata": {},
   "source": [
    "### Boolean and condition"
   ]
  },
  {
   "cell_type": "code",
   "execution_count": 4,
   "metadata": {},
   "outputs": [
    {
     "name": "stdout",
     "output_type": "stream",
     "text": [
      "whats your favorite colorpurple\n",
      "great choice\n"
     ]
    }
   ],
   "source": [
    "color = input (\"whats your favorite color\")\n",
    "if color == \"purple\":\n",
    "    print(\"great choice\")\n",
    "elif color == \"pure darkness\":\n",
    "    print(\"I like how you think\")\n",
    "elif color == \"pink\":\n",
    "    print(\"not bad\")"
   ]
  },
  {
   "cell_type": "code",
   "execution_count": 5,
   "metadata": {},
   "outputs": [
    {
     "name": "stdout",
     "output_type": "stream",
     "text": [
      "You are a child or senior\n"
     ]
    }
   ],
   "source": [
    "# 2-8: 2 dollar ticket\n",
    "# 65: 5 dollar ticket\n",
    "# 10 dollar for everyone else\n",
    "\n",
    "age = 8\n",
    "if not ((age >=2 and age<=8) or age >=65):\n",
    "    print(\"You pay 10 dollars and are not a child or senior\")\n",
    "else:\n",
    "    print(\"You are a child or senior\")"
   ]
  },
  {
   "cell_type": "markdown",
   "metadata": {},
   "source": [
    "### Looping"
   ]
  },
  {
   "cell_type": "code",
   "execution_count": 6,
   "metadata": {},
   "outputs": [],
   "source": [
    "# General Form \n",
    "\n",
    "#for item in iterabl_object:\n",
    "    # do something with item\n",
    "    \n",
    "# item is a new variable that you can call it whatever\n",
    "# item references the current position of out iterator wihtin the iterable"
   ]
  },
  {
   "cell_type": "markdown",
   "metadata": {},
   "source": [
    "### Ranges"
   ]
  },
  {
   "cell_type": "markdown",
   "metadata": {},
   "source": [
    "A range is just a slice of number line.\n",
    "Ex: range (1,8) will give you integers from 1 to 7"
   ]
  },
  {
   "cell_type": "code",
   "execution_count": null,
   "metadata": {},
   "outputs": [],
   "source": [
    "rg = range(1,10,2)\n",
    "print(rg) # 2 is the step, numbers to skip"
   ]
  },
  {
   "cell_type": "code",
   "execution_count": null,
   "metadata": {},
   "outputs": [],
   "source": [
    "print(list(rg))"
   ]
  },
  {
   "cell_type": "markdown",
   "metadata": {},
   "source": [
    "Use a for loop for add up every odd number from 10 to 20 (inclusive) and store the result in the variable x."
   ]
  },
  {
   "cell_type": "code",
   "execution_count": 7,
   "metadata": {},
   "outputs": [
    {
     "name": "stdout",
     "output_type": "stream",
     "text": [
      "10\n",
      "15\n"
     ]
    }
   ],
   "source": [
    "x = 0\n",
    "for n in range(10, 21):  #remember range is exclusive, so we have to go up to 21\n",
    "    if n % 2 != 0: # % means mod\n",
    "        x += n"
   ]
  },
  {
   "cell_type": "markdown",
   "metadata": {},
   "source": [
    "###  Given the string \"amazing\", create a variable ans, which is a list containing all the letters from \"amazing\" but not the vowels (a,e,i,o,u) The ans shall look like [\"m\",'z','n','g']. Use list comprehension."
   ]
  },
  {
   "cell_type": "code",
   "execution_count": 8,
   "metadata": {},
   "outputs": [
    {
     "name": "stdout",
     "output_type": "stream",
     "text": [
      "['m', 'z', 'n', 'g']\n"
     ]
    }
   ],
   "source": [
    "ans = [char for char in \"amazing\" if char not in \"aeiou\"]\n",
    "print(ans)"
   ]
  },
  {
   "cell_type": "markdown",
   "metadata": {},
   "source": [
    "### While Loop and using \"len\""
   ]
  },
  {
   "cell_type": "code",
   "execution_count": null,
   "metadata": {},
   "outputs": [],
   "source": [
    "numbers = [1,2,3,4]\n",
    "i=0\n",
    "while i < len(numbers):\n",
    "    print(numbers[i])\n",
    "    i+=1"
   ]
  },
  {
   "cell_type": "markdown",
   "metadata": {},
   "source": [
    "### List slicing and join"
   ]
  },
  {
   "cell_type": "code",
   "execution_count": null,
   "metadata": {},
   "outputs": [],
   "source": [
    "# some_list[start:end:step] like range but separated with colons\n",
    "\n",
    "colors = ['red','blue','green','yellow','purple','indigo']\n",
    "print(colors[:5])\n",
    "print(colors[0:5])\n",
    "print(colors[2:-1])\n",
    "print(colors[2:])\n",
    "print(colors[::2])\n",
    "print(colors[::-1])\n",
    "print(colors[5][::-1])\n",
    "\n",
    "# Join (a string method)\n",
    "words = [\"Python\",\"Is\",\"Great\"]\n",
    "words =\".\".join(words)\n",
    "print(words)\n"
   ]
  },
  {
   "cell_type": "markdown",
   "metadata": {},
   "source": [
    "## Dictionaries"
   ]
  },
  {
   "cell_type": "code",
   "execution_count": 35,
   "metadata": {},
   "outputs": [
    {
     "name": "stdout",
     "output_type": "stream",
     "text": [
      "{'founder': 'Andrew Carnegie', 'private school?': True, 'acceptance rate': 0.2, 4: 'number of other campuses'}\n",
      "Andrew Carnegie\n"
     ]
    }
   ],
   "source": [
    "# A data structure that contains key-value pairs\n",
    "# keys and values are separated by colons\n",
    "# keys are almost always numnbers or strings\n",
    "# note: dictionary doesnt have a specific order, unlike a list\n",
    "cmu = {\n",
    "    'founder': \"Andrew Carnegie\",\n",
    "    'private school?': True,\n",
    "    'acceptance rate':0.2,\n",
    "     4:\"number of other campuses\"\n",
    "}\n",
    "print(cmu)\n",
    "print(cmu[\"founder\"])\n",
    "# print(cmu[\"mascot\"])"
   ]
  },
  {
   "cell_type": "markdown",
   "metadata": {},
   "source": [
    "#### Accessing all values in a dictionary"
   ]
  },
  {
   "cell_type": "code",
   "execution_count": 11,
   "metadata": {},
   "outputs": [
    {
     "name": "stdout",
     "output_type": "stream",
     "text": [
      "Andrew Carnegie\n",
      "True\n",
      "0.2\n",
      "number of other campuses\n"
     ]
    }
   ],
   "source": [
    "# Access value: Use .values()\n",
    "for value in cmu.values():\n",
    "    print(value)"
   ]
  },
  {
   "cell_type": "code",
   "execution_count": 12,
   "metadata": {},
   "outputs": [
    {
     "name": "stdout",
     "output_type": "stream",
     "text": [
      "founder\n",
      "private school?\n",
      "acceptance rate\n",
      "4\n"
     ]
    }
   ],
   "source": [
    "# Access key: Use .keys()\n",
    "for key in cmu.keys():\n",
    "    print(key)"
   ]
  },
  {
   "cell_type": "code",
   "execution_count": 13,
   "metadata": {},
   "outputs": [
    {
     "name": "stdout",
     "output_type": "stream",
     "text": [
      "founder : Andrew Carnegie\n",
      "private school? : True\n",
      "acceptance rate : 0.2\n",
      "4 : number of other campuses\n"
     ]
    }
   ],
   "source": [
    "# Access both: .items()\n",
    "for key,value in cmu.items():\n",
    "    print(key, \":\", value)"
   ]
  },
  {
   "cell_type": "code",
   "execution_count": 14,
   "metadata": {
    "scrolled": true
   },
   "outputs": [
    {
     "name": "stdout",
     "output_type": "stream",
     "text": [
      "True\n",
      "False\n"
     ]
    }
   ],
   "source": [
    "# Test if a key exists: Use \"in\"\n",
    "print(\"founder\" in cmu)\n",
    "print(\"good food\" in cmu)"
   ]
  },
  {
   "cell_type": "code",
   "execution_count": 15,
   "metadata": {
    "scrolled": true
   },
   "outputs": [
    {
     "name": "stdout",
     "output_type": "stream",
     "text": [
      "1\n",
      "None\n"
     ]
    },
    {
     "ename": "KeyError",
     "evalue": "'no_key'",
     "output_type": "error",
     "traceback": [
      "\u001b[0;31m---------------------------------------------------------------------------\u001b[0m",
      "\u001b[0;31mKeyError\u001b[0m                                  Traceback (most recent call last)",
      "\u001b[0;32m<ipython-input-15-9c2268ec4c15>\u001b[0m in \u001b[0;36m<module>\u001b[0;34m\u001b[0m\n\u001b[1;32m      3\u001b[0m \u001b[0mprint\u001b[0m\u001b[0;34m(\u001b[0m\u001b[0md\u001b[0m\u001b[0;34m.\u001b[0m\u001b[0mget\u001b[0m\u001b[0;34m(\u001b[0m\u001b[0;34m\"a\"\u001b[0m\u001b[0;34m)\u001b[0m\u001b[0;34m)\u001b[0m\u001b[0;34m\u001b[0m\u001b[0;34m\u001b[0m\u001b[0m\n\u001b[1;32m      4\u001b[0m \u001b[0mprint\u001b[0m\u001b[0;34m(\u001b[0m\u001b[0md\u001b[0m\u001b[0;34m.\u001b[0m\u001b[0mget\u001b[0m\u001b[0;34m(\u001b[0m\u001b[0;34m\"no_key\"\u001b[0m\u001b[0;34m)\u001b[0m\u001b[0;34m)\u001b[0m\u001b[0;34m\u001b[0m\u001b[0;34m\u001b[0m\u001b[0m\n\u001b[0;32m----> 5\u001b[0;31m \u001b[0mprint\u001b[0m\u001b[0;34m(\u001b[0m\u001b[0md\u001b[0m\u001b[0;34m[\u001b[0m\u001b[0;34m\"no_key\"\u001b[0m\u001b[0;34m]\u001b[0m\u001b[0;34m)\u001b[0m\u001b[0;34m\u001b[0m\u001b[0;34m\u001b[0m\u001b[0m\n\u001b[0m",
      "\u001b[0;31mKeyError\u001b[0m: 'no_key'"
     ]
    }
   ],
   "source": [
    "# get: Retrieves a key in a object, and return None instead of KeyError\n",
    "d = dict(a=1,b=2,c=3)\n",
    "print(d.get(\"a\"))\n",
    "print(d.get(\"no_key\"))\n",
    "print(d[\"no_key\"])"
   ]
  },
  {
   "cell_type": "markdown",
   "metadata": {},
   "source": [
    "### Dictionary Methods"
   ]
  },
  {
   "cell_type": "code",
   "execution_count": 16,
   "metadata": {},
   "outputs": [
    {
     "name": "stdout",
     "output_type": "stream",
     "text": [
      "{'a': 1, 'b': 2, 'c': 3}\n",
      "True\n",
      "False\n"
     ]
    }
   ],
   "source": [
    "d = dict(a=1,b=2,c=3)\n",
    "clone = d.copy()\n",
    "print(clone)\n",
    "print(clone == d)\n",
    "print(clone is d)"
   ]
  },
  {
   "cell_type": "markdown",
   "metadata": {},
   "source": [
    "### Functions"
   ]
  },
  {
   "cell_type": "markdown",
   "metadata": {},
   "source": [
    "return: \n",
    "\n",
    "1.Exits the function \n",
    "\n",
    "2.Outputs whatever value is places after the return keyword\n",
    "\n",
    "3.Need to add parenthesis after the function name"
   ]
  },
  {
   "cell_type": "code",
   "execution_count": 34,
   "metadata": {},
   "outputs": [
    {
     "data": {
      "text/plain": [
       "'Heads'"
      ]
     },
     "execution_count": 34,
     "metadata": {},
     "output_type": "execute_result"
    }
   ],
   "source": [
    "from random import random\n",
    "def flip_coin():\n",
    "    #generates random number 0-1\n",
    "    r = random()\n",
    "    if r > 0.5:\n",
    "        return \"Heads\"\n",
    "    else: \n",
    "        return \"Tails\"\n",
    "\n",
    "flip_coin()"
   ]
  },
  {
   "cell_type": "markdown",
   "metadata": {},
   "source": [
    "#### Function that accepts inputs (parameters vs arguments)"
   ]
  },
  {
   "cell_type": "code",
   "execution_count": 33,
   "metadata": {},
   "outputs": [
    {
     "data": {
      "text/plain": [
       "[1, 4]"
      ]
     },
     "execution_count": 33,
     "metadata": {},
     "output_type": "execute_result"
    }
   ],
   "source": [
    "def min_max_key_in_dictionary(d):\n",
    "    keys = d.keys()\n",
    "    return [min(keys), max(keys)]\n",
    "\n",
    "min_max_key_in_dictionary({1:\"eat\",2:\"sleep\",3:\"drink\",4:\"play\"})"
   ]
  },
  {
   "cell_type": "code",
   "execution_count": null,
   "metadata": {},
   "outputs": [],
   "source": [
    "# Keyworded Arguments \n",
    "# Will cover this if time permitted"
   ]
  },
  {
   "cell_type": "markdown",
   "metadata": {},
   "source": [
    "## References"
   ]
  },
  {
   "cell_type": "markdown",
   "metadata": {},
   "source": [
    "You can find a more complete introduction at https://docs.scipy.org/doc/numpy/user/quickstart.html"
   ]
  }
 ],
 "metadata": {
  "kernelspec": {
   "display_name": "Python 3",
   "language": "python",
   "name": "python3"
  },
  "language_info": {
   "codemirror_mode": {
    "name": "ipython",
    "version": 3
   },
   "file_extension": ".py",
   "mimetype": "text/x-python",
   "name": "python",
   "nbconvert_exporter": "python",
   "pygments_lexer": "ipython3",
   "version": "3.6.8"
  }
 },
 "nbformat": 4,
 "nbformat_minor": 2
}
